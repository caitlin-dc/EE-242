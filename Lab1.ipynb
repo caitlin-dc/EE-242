{
 "cells": [
  {
   "cell_type": "markdown",
   "id": "e3a3ac46-2aa3-4a10-a2ac-fabc2fda3970",
   "metadata": {
    "tags": []
   },
   "source": [
    "# EE 242 Lab 0 – Texts, Code, Plot and Play\n",
    "\n",
    "In this lab exercise, basic python tools that will be required throughout this course to perform the various lab assignments.\n",
    "\n",
    "## Form Teams\n",
    "\n",
    "All in-lab sessions will be conducted as a team of 2-4 students. We prefer teams of 3 over other combinations. \n",
    "\n",
    "Write down the names and number of your team (assigned by the TA of the form \"XXYY\"\n",
    "where XX is your lab session code (AA, AB, AC, AD, AE) and YY is your team number. This will also be the team name in Canvas.\n",
    "\n",
    "Team AD02: Andrew, Caitie, Yvonne\n"
   ]
  },
  {
   "cell_type": "markdown",
   "id": "9b637e83-cf13-4289-b230-71865fb7a702",
   "metadata": {},
   "source": [
    "## Playing with strings\n",
    "\n",
    "### Lab 0.1 - Palindromes\n",
    "\n",
    "Write the python code for reading input from user and write a function to check whether the string is a palindrome using the following algorithm\n",
    "\n",
    "- read input in a string a\n",
    "- reverse the string b\n",
    "- write a for loop to check from 1 $\\rightarrow$ N if a[i]=b[i]\n",
    "- if all characters match return True else return False"
   ]
  },
  {
   "cell_type": "code",
   "execution_count": 13,
   "id": "9e41b1be-7146-4576-a73a-147c9c4e73a2",
   "metadata": {},
   "outputs": [
    {
     "name": "stdin",
     "output_type": "stream",
     "text": [
      " aba\n"
     ]
    },
    {
     "name": "stdout",
     "output_type": "stream",
     "text": [
      "True\n"
     ]
    }
   ],
   "source": [
    "a = input()\n",
    "\n",
    "#PRE: Takes in a user input string, a.\n",
    "#POST:Returns false if they don't match at any point and true if palindromes.\n",
    "def checkPalindrome(a):\n",
    "    b = a[::-1]\n",
    "    for i in range(len(a)):\n",
    "        if (a[i] != b[i]):\n",
    "            print(b)\n",
    "            return False\n",
    "    return True\n",
    "\n",
    "print(checkPalindrome(a))"
   ]
  },
  {
   "cell_type": "markdown",
   "id": "c5fc82ff-8f73-463b-8aa5-5b548b3b98b7",
   "metadata": {},
   "source": [
    "Questions to be answered in the report:\n",
    "\n",
    "**1. Is there a way to make this algorithm more efficient in time required and storage space?**\n",
    "\n",
    "This alogithm could be made more storage efficient by not creating a new variable and instead comparing the end of the string to the beginning of the string, taking into account if the string length is odd or even. \n",
    "\n",
    "It could be made more efficient in time required by not looping through the strings to compare each character and instead comparing the entire strings to each other, since palindromes would be the same word.\n",
    "\n",
    "**2. Are there cases where the above algorithm/code will fail?**\n",
    "\n",
    "The code would fail if the palindrome is a phrase as the spaces would throw off the palindrome (for instance, \"Evil olive\"). Furthermore, any one single letter would count as a palindrome, even though a palindrome must consist of 3 letters by definition."
   ]
  },
  {
   "cell_type": "markdown",
   "id": "b8b8546f-5b82-4453-b014-d9b8ded1ddcd",
   "metadata": {},
   "source": [
    "### Lab 0.2 - Teams\n",
    "\n",
    "Write the python code for reading input from user and write a function to replace all vowels using the following encoding scheme:\n",
    "- Aa $\\rightarrow$ @\n",
    "- Ee $\\rightarrow$ 3\n",
    "- Ii $\\rightarrow$ 1\n",
    "- Oo $\\rightarrow$ 0\n",
    "- Uu $\\rightarrow$ ^\n",
    "\n",
    "Show the TA example with all of your names concatenated in the string."
   ]
  },
  {
   "cell_type": "code",
   "execution_count": 80,
   "id": "0074149e-4ef7-4c77-bdfc-d8a7ca38d2dd",
   "metadata": {},
   "outputs": [
    {
     "name": "stdin",
     "output_type": "stream",
     "text": [
      " Caitie Andrew Yvonne\n"
     ]
    },
    {
     "data": {
      "text/plain": [
       "'C@1t13 @ndr3w Yv0nn3'"
      ]
     },
     "execution_count": 80,
     "metadata": {},
     "output_type": "execute_result"
    }
   ],
   "source": [
    "name = input()\n",
    "vowels = 'AaEeIiOoUu'\n",
    "\n",
    "#PRE: Takes in a string of all vowels, vowels, and a user input string, name.\n",
    "#POST:Replaces every instance of a vowel in name and returns the encoded name.\n",
    "def encodeVowels(vowels, name):\n",
    "    for i in vowels:\n",
    "        if i == 'A' or i == 'a':\n",
    "          name = name.replace(i, \"@\")\n",
    "        elif i == 'E' or i == 'e':\n",
    "          name = name.replace(i, \"3\")\n",
    "        elif i == 'I' or i == 'i':\n",
    "          name = name.replace(i, \"1\")\n",
    "        elif i == 'O' or i == 'o':\n",
    "          name = name.replace(i, \"0\")\n",
    "        elif i == 'U' or i == 'u':\n",
    "          name = name.replace(i, \"^\")\n",
    "    return name\n",
    "  \n",
    "encodeVowels(vowels, name)"
   ]
  },
  {
   "cell_type": "markdown",
   "id": "d2987564-152f-4139-89ee-fa3b767c9252",
   "metadata": {},
   "source": [
    "Questions to be answered in the report:\n",
    "\n",
    "**1. What is the time complexity of the code if the length of the string is N?**\n",
    "\n",
    "The complexity is O(N) since it loops through the entire string of length N, once. Even though the loop is going through the string 'vowels' the replacement check is iterating through the string, looking for vowels, so it is complexity O(N).\n",
    "\n",
    "**2. How much storage does your function require if the length of the string is N? (1 char is 1 byte)** \n",
    "\n",
    "It would require N bytes since each char in the string is 1 byte and the length is equivalent to the number of chars within. Therefore, for length of string N, the chars within the string make it N bytes of stroage."
   ]
  },
  {
   "cell_type": "markdown",
   "id": "dd0b4ac8-b72f-42f5-8037-80c55a36a922",
   "metadata": {},
   "source": [
    "## Playing with Signals\n",
    "\n",
    "### Lab 0.3 - Reading, playing and writing audio files\n",
    "\n",
    "Use librosa package to read the provided baby.wav file. **Refer to documentation (https://librosa.org/doc/latest/index.html)**\n",
    "\n",
    "Perform these 4 actions :\n",
    "- Load the wave file\n",
    "- Plot the wave file in time-domain\n",
    "- Write a new wave file called \"babyreturns.wav\" \n",
    "\n",
    "Use IPython package to play the provided baby.wav file. **Refer to documentation (https://ipython.readthedocs.io/en/stable/api/generated/IPython.display.html)**\n"
   ]
  },
  {
   "cell_type": "code",
   "execution_count": 79,
   "id": "6d0a4115-8524-47ef-9c6e-3200fdc567a1",
   "metadata": {},
   "outputs": [
    {
     "data": {
      "image/png": "[encoded data removed]",
      "text/plain": [
       "<Figure size 432x288 with 1 Axes>"
      ]
     },
     "metadata": {
      "needs_background": "light"
     },
     "output_type": "display_data"
    }
   ],
   "source": [
    "import librosa.display\n",
    "import soundfile as sf\n",
    "\n",
    "# Load the file as a waveform 'y' with sampling rate 'sr'\n",
    "y, sr = librosa.load('baby.wav')\n",
    "\n",
    "# Display the waveform.\n",
    "librosa.display.waveshow(y, sr=sr)\n",
    "\n",
    "# Plays the audio of the waveform in its original state.\n",
    "from IPython.display import Audio\n",
    "Audio(data=y, rate=sr)\n",
    "\n",
    "# Babyreturns is a downsampled version with sr of half the original.\n",
    "sf.write('babyreturns.wav', y, int(sr/2))\n",
    "\n",
    "#Babyreturns2 is an upsampled version with sr of double the original.\n",
    "sf.write('babyreturns2.wav', y, 2*sr)"
   ]
  },
  {
   "cell_type": "markdown",
   "id": "f4fbd93c-564f-485f-978d-586359269440",
   "metadata": {},
   "source": [
    "Questions to be answered in the report:\n",
    "\n",
    "**1. Store the wavefile with a lower sampling rate and try to play it. Does it sound higher pitch or lower pitch? (Keep the IPython display open to show TA)** \n",
    "\n",
    "The lower sample rate causes the sound to become lower pitch This was discovered by lowering the sample rate in the audio. This version was saved as babyreturns.wav.\n",
    "\n",
    "**2. Store the wavefile with a higher sampling rate and try to play it. Does it sound higher pitch or lower pitch? (Keep the IPython display open to show TA)**\n",
    "\n",
    "The higher sample rate causes the sound to become higher pitch This was discovered by heightening the sample rate in the audio. This version was saved as babyreturns2.wav."
   ]
  },
  {
   "cell_type": "code",
   "execution_count": null,
   "id": "9db90e65-c08b-4470-a8e1-825244b40ebf",
   "metadata": {},
   "outputs": [],
   "source": []
  }
 ],
 "metadata": {
  "kernelspec": {
   "display_name": "Python 3 (ipykernel)",
   "language": "python",
   "name": "python3"
  },
  "language_info": {
   "codemirror_mode": {
    "name": "ipython",
    "version": 3
   },
   "file_extension": ".py",
   "mimetype": "text/x-python",
   "name": "python",
   "nbconvert_exporter": "python",
   "pygments_lexer": "ipython3",
   "version": "3.9.7"
  }
 },
 "nbformat": 4,
 "nbformat_minor": 5
}
